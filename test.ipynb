{
 "cells": [
  {
   "cell_type": "code",
   "execution_count": 4,
   "metadata": {},
   "outputs": [
    {
     "name": "stdout",
     "output_type": "stream",
     "text": [
      "['images', 'labels', 'allow_pickle']\n"
     ]
    }
   ],
   "source": [
    "import torch\n",
    "import numpy as np\n",
    "\n",
    "\n",
    "def mnist():\n",
    "    # exchange with the corrupted mnist dataset\n",
    "    test = np.load(\"./test.npz\")\n",
    "    train=1\n",
    "    return train, test\n",
    "\n",
    "\n",
    "\n",
    "test = np.load('./test.npz')\n",
    "print(list(test))\n"
   ]
  },
  {
   "cell_type": "code",
   "execution_count": 18,
   "metadata": {},
   "outputs": [
    {
     "data": {
      "text/plain": [
       "['images', 'labels', 'allow_pickle']"
      ]
     },
     "execution_count": 18,
     "metadata": {},
     "output_type": "execute_result"
    }
   ],
   "source": [
    "files=np.load('test.npz')\n",
    "files.files"
   ]
  },
  {
   "cell_type": "code",
   "execution_count": 34,
   "metadata": {},
   "outputs": [],
   "source": [
    "images = list(zip(files['labels'],files['images']))"
   ]
  },
  {
   "cell_type": "code",
   "execution_count": 62,
   "metadata": {},
   "outputs": [],
   "source": [
    "def mnist():\n",
    "    # exchange with the corrupted mnist dataset\n",
    "    test = np.load(\"C:/Users/Frede/Documents/DTU/Kandidat/3.Semester/MLOps/s1/final_exercise/test.npz\")\n",
    "    train = np.load(\"C:/Users/Frede/Documents/DTU/Kandidat/3.Semester/MLOps/s1/final_exercise/train_0.npz\")\n",
    "\n",
    "    train = list(zip(train['images'], train['labels']))\n",
    "    test = list(zip(test['images'], test['labels']))\n",
    "\n",
    "    trainloader = torch.utils.data.DataLoader(train, batch_size=64, shuffle=True)\n",
    "    testloader = torch.utils.data.DataLoader(test, batch_size=64, shuffle=True)\n",
    "\n",
    "    return trainloader, testloader"
   ]
  },
  {
   "cell_type": "code",
   "execution_count": 63,
   "metadata": {},
   "outputs": [],
   "source": [
    "train, test = mnist()"
   ]
  },
  {
   "cell_type": "code",
   "execution_count": 64,
   "metadata": {},
   "outputs": [],
   "source": [
    "images, labels = next(iter(test))"
   ]
  },
  {
   "cell_type": "code",
   "execution_count": 53,
   "metadata": {},
   "outputs": [
    {
     "data": {
      "image/png": "[encoded data removed]",
      "text/plain": [
       "<Figure size 640x480 with 1 Axes>"
      ]
     },
     "metadata": {},
     "output_type": "display_data"
    }
   ],
   "source": [
    "import matplotlib.pyplot as plt\n",
    "plt.imshow(images[4][1].squeeze(), cmap='Greys_r');"
   ]
  },
  {
   "cell_type": "code",
   "execution_count": 33,
   "metadata": {},
   "outputs": [
    {
     "name": "stdout",
     "output_type": "stream",
     "text": [
      "[(1, 2), (2, 3)]\n"
     ]
    }
   ],
   "source": [
    "test = list(zip([1,2],[2,3]))\n",
    "print(test)"
   ]
  }
 ],
 "metadata": {
  "kernelspec": {
   "display_name": "MLOPSOne",
   "language": "python",
   "name": "python3"
  },
  "language_info": {
   "codemirror_mode": {
    "name": "ipython",
    "version": 3
   },
   "file_extension": ".py",
   "mimetype": "text/x-python",
   "name": "python",
   "nbconvert_exporter": "python",
   "pygments_lexer": "ipython3",
   "version": "3.10.8"
  },
  "orig_nbformat": 4,
  "vscode": {
   "interpreter": {
    "hash": "87791c178709519758d8950c82b7b4405ce6314d030326589574f16a44980255"
   }
  }
 },
 "nbformat": 4,
 "nbformat_minor": 2
}
